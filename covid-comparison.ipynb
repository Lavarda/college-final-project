{
 "cells": [
  {
   "cell_type": "markdown",
   "id": "dfa67389",
   "metadata": {
    "papermill": {
     "duration": 0.011273,
     "end_time": "2022-11-19T16:15:49.655443",
     "exception": false,
     "start_time": "2022-11-19T16:15:49.644170",
     "status": "completed"
    },
    "tags": []
   },
   "source": [
    "# 1. Libraries"
   ]
  },
  {
   "cell_type": "code",
   "execution_count": 1,
   "id": "27e42e75",
   "metadata": {
    "execution": {
     "iopub.execute_input": "2022-11-19T16:15:49.676914Z",
     "iopub.status.busy": "2022-11-19T16:15:49.676189Z",
     "iopub.status.idle": "2022-11-19T16:16:03.952963Z",
     "shell.execute_reply": "2022-11-19T16:16:03.951047Z"
    },
    "papermill": {
     "duration": 14.291187,
     "end_time": "2022-11-19T16:16:03.956128",
     "exception": false,
     "start_time": "2022-11-19T16:15:49.664941",
     "status": "completed"
    },
    "tags": []
   },
   "outputs": [
    {
     "name": "stdout",
     "output_type": "stream",
     "text": [
      "Collecting strkernel\r\n",
      "  Downloading strkernel-0.2-py3-none-any.whl (21 kB)\r\n",
      "Requirement already satisfied: scipy in /opt/conda/lib/python3.7/site-packages (from strkernel) (1.7.3)\r\n",
      "Requirement already satisfied: Biopython in /opt/conda/lib/python3.7/site-packages (from strkernel) (1.79)\r\n",
      "Requirement already satisfied: numpy in /opt/conda/lib/python3.7/site-packages (from strkernel) (1.21.6)\r\n",
      "Installing collected packages: strkernel\r\n",
      "Successfully installed strkernel-0.2\r\n",
      "\u001b[33mWARNING: Running pip as the 'root' user can result in broken permissions and conflicting behaviour with the system package manager. It is recommended to use a virtual environment instead: https://pip.pypa.io/warnings/venv\u001b[0m\u001b[33m\r\n",
      "\u001b[0m"
     ]
    }
   ],
   "source": [
    "!pip install strkernel"
   ]
  },
  {
   "cell_type": "code",
   "execution_count": 2,
   "id": "3fec77a8",
   "metadata": {
    "execution": {
     "iopub.execute_input": "2022-11-19T16:16:03.983069Z",
     "iopub.status.busy": "2022-11-19T16:16:03.982264Z",
     "iopub.status.idle": "2022-11-19T16:16:05.349040Z",
     "shell.execute_reply": "2022-11-19T16:16:05.347583Z"
    },
    "papermill": {
     "duration": 1.384658,
     "end_time": "2022-11-19T16:16:05.352327",
     "exception": false,
     "start_time": "2022-11-19T16:16:03.967669",
     "status": "completed"
    },
    "tags": []
   },
   "outputs": [
    {
     "name": "stderr",
     "output_type": "stream",
     "text": [
      "/opt/conda/lib/python3.7/site-packages/strkernel/gappy_trie.py:19: VisibleDeprecationWarning: Creating an ndarray from ragged nested sequences (which is a list-or-tuple of lists-or-tuples-or ndarrays with different lengths or shapes) is deprecated. If you meant to do this, you must specify 'dtype=object' when creating the ndarray.\n",
      "  s=np.array([np.arange(4),np.arange(4),np.arange(20),np.arange(21)])\n"
     ]
    }
   ],
   "source": [
    "import time\n",
    "from strkernel import gappy_kernel as gk\n",
    "from strkernel import gappy_trie as gt\n",
    "from scipy.sparse import coo_matrix, vstack\n",
    "import numpy as np\n",
    "import matplotlib.pyplot as plt\n",
    "from sklearn import svm\n",
    "from Bio.Seq import Seq\n",
    "from sklearn.model_selection import train_test_split\n",
    "from sklearn.svm import SVC\n",
    "from sklearn.metrics import roc_curve, roc_auc_score\n",
    "from sklearn.metrics import average_precision_score\n",
    "from sklearn.metrics import precision_recall_curve, precision_score\n",
    "from sklearn.neighbors import KNeighborsClassifier\n",
    "from sklearn.metrics import classification_report, confusion_matrix, accuracy_score\n",
    "from sklearn.ensemble import StackingClassifier"
   ]
  },
  {
   "cell_type": "markdown",
   "id": "16b92749",
   "metadata": {
    "papermill": {
     "duration": 0.00912,
     "end_time": "2022-11-19T16:16:05.373607",
     "exception": false,
     "start_time": "2022-11-19T16:16:05.364487",
     "status": "completed"
    },
    "tags": []
   },
   "source": [
    "# 2. Data Sequence PreProcessing"
   ]
  },
  {
   "cell_type": "code",
   "execution_count": 3,
   "id": "57c68c3e",
   "metadata": {
    "execution": {
     "iopub.execute_input": "2022-11-19T16:16:05.394508Z",
     "iopub.status.busy": "2022-11-19T16:16:05.394009Z",
     "iopub.status.idle": "2022-11-19T16:16:08.894935Z",
     "shell.execute_reply": "2022-11-19T16:16:08.893901Z"
    },
    "papermill": {
     "duration": 3.514306,
     "end_time": "2022-11-19T16:16:08.897434",
     "exception": false,
     "start_time": "2022-11-19T16:16:05.383128",
     "status": "completed"
    },
    "tags": []
   },
   "outputs": [
    {
     "name": "stdout",
     "output_type": "stream",
     "text": [
      "Calculated 1-gappypair in 0.8655624389648438 seconds\n",
      "Calculated 1-gappypair in 0.8660333156585693 seconds\n",
      "Calculated 1-gappypair in 0.8650596141815186 seconds\n",
      "Calculated 1-gappypair in 0.8751652240753174 seconds\n"
     ]
    }
   ],
   "source": [
    "# Reads in files\n",
    "def read(fname):\n",
    "    sequences=[]\n",
    "    with open(fname,'r') as f:\n",
    "        for line in f:\n",
    "            if line[0]!='>':\n",
    "                sequences.append(line.split()[0])\n",
    "    return sequences\n",
    "\n",
    "pos=[Seq(x) for x in read('../input/coronavirus-accession-sars-mers-cov2/cov2.fasta')]\n",
    "neg=[Seq(x) for x in read('../input/coronavirus-accession-sars-mers-cov2/mers.fasta')]\n",
    "start = time.time()\n",
    "k=1\n",
    "g=2\n",
    "start = time.time()\n",
    "spectrum_pos = gk.gappypair_kernel(pos, k=k, g=g,  include_flanking=False, gapDifferent = True, sparse = True)\n",
    "print (\"Calculated {}-gappypair in {} seconds\".format(k, time.time() - start))\n",
    "start = time.time()\n",
    "spectrum_neg = gk.gappypair_kernel(neg,k=k, g=g,  include_flanking=False, gapDifferent = True, sparse = True)\n",
    "print (\"Calculated {}-gappypair in {} seconds\".format(k, time.time() - start))\n",
    "start = time.time()\n",
    "spectrum_pos3 = gk.gappypair_kernel(pos, k=k, g=g,  include_flanking=False, gapDifferent = False, sparse = True)\n",
    "print (\"Calculated {}-gappypair in {} seconds\".format(k, time.time() - start))\n",
    "start = time.time()\n",
    "spectrum_neg3 = gk.gappypair_kernel(neg, k=k, g=g,  include_flanking=False, gapDifferent = False, sparse = True)\n",
    "print (\"Calculated {}-gappypair in {} seconds\".format(k, time.time() - start))"
   ]
  },
  {
   "cell_type": "code",
   "execution_count": 4,
   "id": "0c7143d5",
   "metadata": {
    "execution": {
     "iopub.execute_input": "2022-11-19T16:16:08.919528Z",
     "iopub.status.busy": "2022-11-19T16:16:08.918574Z",
     "iopub.status.idle": "2022-11-19T16:16:08.927402Z",
     "shell.execute_reply": "2022-11-19T16:16:08.926491Z"
    },
    "papermill": {
     "duration": 0.022541,
     "end_time": "2022-11-19T16:16:08.929880",
     "exception": false,
     "start_time": "2022-11-19T16:16:08.907339",
     "status": "completed"
    },
    "tags": []
   },
   "outputs": [],
   "source": [
    "y = np.concatenate((np.ones(spectrum_pos.shape[0]), -np.ones(spectrum_neg.shape[0])))\n",
    "X =  vstack([spectrum_pos,spectrum_neg]).toarray()\n",
    "y3 = np.concatenate((np.ones(spectrum_pos3.shape[0]), -np.ones(spectrum_neg3.shape[0])))\n",
    "X3 =  vstack([spectrum_pos3,spectrum_neg3]).toarray()"
   ]
  },
  {
   "cell_type": "code",
   "execution_count": 5,
   "id": "f3f2e1cf",
   "metadata": {
    "execution": {
     "iopub.execute_input": "2022-11-19T16:16:08.952044Z",
     "iopub.status.busy": "2022-11-19T16:16:08.951471Z",
     "iopub.status.idle": "2022-11-19T16:16:08.961619Z",
     "shell.execute_reply": "2022-11-19T16:16:08.960590Z"
    },
    "papermill": {
     "duration": 0.024294,
     "end_time": "2022-11-19T16:16:08.964028",
     "exception": false,
     "start_time": "2022-11-19T16:16:08.939734",
     "status": "completed"
    },
    "tags": []
   },
   "outputs": [],
   "source": [
    "X_train, X_test, y_train, y_test = train_test_split(X,y,test_size=0.1,random_state=42,stratify=y)\n",
    "X_train3, X_test3, y_train3, y_test3 = train_test_split(X3,y3,test_size=0.1,random_state=42,stratify=y3)"
   ]
  },
  {
   "cell_type": "markdown",
   "id": "88b15e4b",
   "metadata": {
    "papermill": {
     "duration": 0.009477,
     "end_time": "2022-11-19T16:16:08.983634",
     "exception": false,
     "start_time": "2022-11-19T16:16:08.974157",
     "status": "completed"
    },
    "tags": []
   },
   "source": [
    "# 3. Machine Learning"
   ]
  },
  {
   "cell_type": "markdown",
   "id": "c7fbe934",
   "metadata": {
    "papermill": {
     "duration": 0.009249,
     "end_time": "2022-11-19T16:16:09.002657",
     "exception": false,
     "start_time": "2022-11-19T16:16:08.993408",
     "status": "completed"
    },
    "tags": []
   },
   "source": [
    "## 3.1 Support Vector Machines"
   ]
  },
  {
   "cell_type": "code",
   "execution_count": 6,
   "id": "b7f49277",
   "metadata": {
    "execution": {
     "iopub.execute_input": "2022-11-19T16:16:09.024952Z",
     "iopub.status.busy": "2022-11-19T16:16:09.023786Z",
     "iopub.status.idle": "2022-11-19T16:16:09.291427Z",
     "shell.execute_reply": "2022-11-19T16:16:09.289689Z"
    },
    "papermill": {
     "duration": 0.282279,
     "end_time": "2022-11-19T16:16:09.294692",
     "exception": false,
     "start_time": "2022-11-19T16:16:09.012413",
     "status": "completed"
    },
    "tags": []
   },
   "outputs": [
    {
     "name": "stdout",
     "output_type": "stream",
     "text": [
      "Trained linear SVM on 1-spectrum in 0.2594771385192871 seconds\n"
     ]
    }
   ],
   "source": [
    "start = time.time()\n",
    "clf = SVC(C=0.1, kernel='linear', probability=True)\n",
    "clf.fit(X_train, y_train)\n",
    "print (\"Trained linear SVM on {}-spectrum in {} seconds\".format(k, time.time() - start))"
   ]
  },
  {
   "cell_type": "code",
   "execution_count": 7,
   "id": "9f3bed0c",
   "metadata": {
    "execution": {
     "iopub.execute_input": "2022-11-19T16:16:09.317835Z",
     "iopub.status.busy": "2022-11-19T16:16:09.316590Z",
     "iopub.status.idle": "2022-11-19T16:16:09.595550Z",
     "shell.execute_reply": "2022-11-19T16:16:09.593833Z"
    },
    "papermill": {
     "duration": 0.293749,
     "end_time": "2022-11-19T16:16:09.598831",
     "exception": false,
     "start_time": "2022-11-19T16:16:09.305082",
     "status": "completed"
    },
    "tags": []
   },
   "outputs": [
    {
     "name": "stdout",
     "output_type": "stream",
     "text": [
      "Trained linear SVM on 1-spectrum in 0.27106428146362305 seconds\n"
     ]
    }
   ],
   "source": [
    "start = time.time()\n",
    "clf3 = SVC(C=0.1, kernel='linear', probability=True)\n",
    "clf3.fit(X_train3, y_train3)\n",
    "print (\"Trained linear SVM on {}-spectrum in {} seconds\".format(k, time.time() - start))"
   ]
  },
  {
   "cell_type": "code",
   "execution_count": 8,
   "id": "5147f61f",
   "metadata": {
    "execution": {
     "iopub.execute_input": "2022-11-19T16:16:09.620652Z",
     "iopub.status.busy": "2022-11-19T16:16:09.620164Z",
     "iopub.status.idle": "2022-11-19T16:16:10.276336Z",
     "shell.execute_reply": "2022-11-19T16:16:10.275431Z"
    },
    "papermill": {
     "duration": 0.670453,
     "end_time": "2022-11-19T16:16:10.279634",
     "exception": false,
     "start_time": "2022-11-19T16:16:09.609181",
     "status": "completed"
    },
    "tags": []
   },
   "outputs": [
    {
     "data": {
      "image/png": "[encoded data removed]",
      "text/plain": [
       "<Figure size 1008x576 with 1 Axes>"
      ]
     },
     "metadata": {
      "needs_background": "light"
     },
     "output_type": "display_data"
    }
   ],
   "source": [
    "y_score = clf.predict_proba(X_test)\n",
    "roc_auc = roc_auc_score(y_score=y_score[:,1], y_true=y_test)\n",
    "tpr, fpr, _ = roc_curve(y_score=y_score[:,1], y_true=y_test)\n",
    "y_score3 = clf3.predict_proba(X_test3)\n",
    "roc_auc3 = roc_auc_score(y_score=y_score3[:,1], y_true=y_test3)\n",
    "tpr3, fpr3, _ = roc_curve(y_score=y_score3[:,1], y_true=y_test3)\n",
    "fig = plt.figure(figsize=(14, 8))\n",
    "plt.plot(tpr, fpr, label='Performance Gappy Pair simple Kernel (AUC: {:0.2f})'.format(roc_auc), lw=4, color='orange')\n",
    "plt.plot(tpr3, fpr3, label='Performance Gappy Pair simple Kernel gapDifferent false (AUC: {:0.2f})'.format(roc_auc3),lw=4, color='green')\n",
    "plt.xlabel('False Positive Rate')\n",
    "plt.ylabel('True Positive Rate')\n",
    "plt.plot([0, 1], [0, 1], color='navy', lw=4, linestyle='--', label='random')\n",
    "plt.legend(loc='lower right')\n",
    "fig.savefig('./Gappy_Kernel.pdf')"
   ]
  },
  {
   "cell_type": "code",
   "execution_count": 9,
   "id": "63dd9b5c",
   "metadata": {
    "execution": {
     "iopub.execute_input": "2022-11-19T16:16:10.303759Z",
     "iopub.status.busy": "2022-11-19T16:16:10.303019Z",
     "iopub.status.idle": "2022-11-19T16:16:14.929679Z",
     "shell.execute_reply": "2022-11-19T16:16:14.928216Z"
    },
    "papermill": {
     "duration": 4.64367,
     "end_time": "2022-11-19T16:16:14.934089",
     "exception": false,
     "start_time": "2022-11-19T16:16:10.290419",
     "status": "completed"
    },
    "tags": []
   },
   "outputs": [
    {
     "name": "stderr",
     "output_type": "stream",
     "text": [
      "/opt/conda/lib/python3.7/site-packages/strkernel/gappy_trie.py:136: VisibleDeprecationWarning: Creating an ndarray from ragged nested sequences (which is a list-or-tuple of lists-or-tuples-or ndarrays with different lengths or shapes) is deprecated. If you meant to do this, you must specify 'dtype=object' when creating the ndarray.\n",
      "  return np.array([np.array([alphabets[t].index(p) for p in x if ('A' <= p <= 'Z') & (p in alphabets[t])]) for x in sequences])\n"
     ]
    },
    {
     "name": "stdout",
     "output_type": "stream",
     "text": [
      "Calculated 1-gappypair trie in 2.295283317565918 seconds\n",
      "Calculated 1-gappypair trie in 2.319594144821167 seconds\n"
     ]
    }
   ],
   "source": [
    "# Necessary, because the gappy pair trie kernel at the moment can't handle N nucleotides\n",
    "def remove_n(seqs):\n",
    "    data=[]\n",
    "    for x in seqs:\n",
    "        if Seq('N') in x:\n",
    "            pass\n",
    "        else:\n",
    "            data.append(x)\n",
    "    return data\n",
    "\n",
    "neg_without_n=remove_n(neg)\n",
    "\n",
    "start = time.time()\n",
    "spectrum_pos2 = gt.gappypair_kernel(pos, k, 0, g=g,  include_flanking=False, gapDifferent = False)\n",
    "print (\"Calculated {}-gappypair trie in {} seconds\".format(k, time.time() - start))\n",
    "start = time.time()\n",
    "spectrum_neg2 = gt.gappypair_kernel(neg_without_n, k, 0, g=g,  include_flanking=False,gapDifferent = False)\n",
    "print (\"Calculated {}-gappypair trie in {} seconds\".format(k, time.time() - start))"
   ]
  },
  {
   "cell_type": "code",
   "execution_count": 10,
   "id": "d7c8233b",
   "metadata": {
    "execution": {
     "iopub.execute_input": "2022-11-19T16:16:14.959002Z",
     "iopub.status.busy": "2022-11-19T16:16:14.958481Z",
     "iopub.status.idle": "2022-11-19T16:16:14.966415Z",
     "shell.execute_reply": "2022-11-19T16:16:14.965161Z"
    },
    "papermill": {
     "duration": 0.023219,
     "end_time": "2022-11-19T16:16:14.968987",
     "exception": false,
     "start_time": "2022-11-19T16:16:14.945768",
     "status": "completed"
    },
    "tags": []
   },
   "outputs": [],
   "source": [
    "X2 =  vstack([spectrum_pos2,spectrum_neg2]).toarray()\n",
    "y2 =  np.concatenate((np.ones(spectrum_pos2.shape[0]), -np.ones(spectrum_neg2.shape[0])))"
   ]
  },
  {
   "cell_type": "code",
   "execution_count": 11,
   "id": "afe31e3e",
   "metadata": {
    "execution": {
     "iopub.execute_input": "2022-11-19T16:16:14.992962Z",
     "iopub.status.busy": "2022-11-19T16:16:14.992459Z",
     "iopub.status.idle": "2022-11-19T16:16:15.000830Z",
     "shell.execute_reply": "2022-11-19T16:16:14.999861Z"
    },
    "papermill": {
     "duration": 0.023166,
     "end_time": "2022-11-19T16:16:15.003231",
     "exception": false,
     "start_time": "2022-11-19T16:16:14.980065",
     "status": "completed"
    },
    "tags": []
   },
   "outputs": [],
   "source": [
    "X_train2, X_test2, y_train2, y_test2 = train_test_split(X2,y2,test_size=0.1,random_state=42,stratify=y2)"
   ]
  },
  {
   "cell_type": "code",
   "execution_count": 12,
   "id": "b68b0862",
   "metadata": {
    "execution": {
     "iopub.execute_input": "2022-11-19T16:16:15.027219Z",
     "iopub.status.busy": "2022-11-19T16:16:15.026436Z",
     "iopub.status.idle": "2022-11-19T16:16:15.345307Z",
     "shell.execute_reply": "2022-11-19T16:16:15.343829Z"
    },
    "papermill": {
     "duration": 0.334677,
     "end_time": "2022-11-19T16:16:15.348725",
     "exception": false,
     "start_time": "2022-11-19T16:16:15.014048",
     "status": "completed"
    },
    "tags": []
   },
   "outputs": [
    {
     "name": "stdout",
     "output_type": "stream",
     "text": [
      "Trained linear SVM on 1-spectrum in 0.30858588218688965 seconds\n"
     ]
    }
   ],
   "source": [
    "start = time.time()\n",
    "clf2 = SVC(C=0.1, kernel='linear', probability=True)\n",
    "clf2.fit(X_train2, y_train2)\n",
    "print (\"Trained linear SVM on {}-spectrum in {} seconds\".format(k, time.time() - start))"
   ]
  },
  {
   "cell_type": "code",
   "execution_count": 13,
   "id": "81143ab5",
   "metadata": {
    "execution": {
     "iopub.execute_input": "2022-11-19T16:16:15.373316Z",
     "iopub.status.busy": "2022-11-19T16:16:15.372855Z",
     "iopub.status.idle": "2022-11-19T16:16:15.649403Z",
     "shell.execute_reply": "2022-11-19T16:16:15.648258Z"
    },
    "papermill": {
     "duration": 0.291782,
     "end_time": "2022-11-19T16:16:15.651893",
     "exception": false,
     "start_time": "2022-11-19T16:16:15.360111",
     "status": "completed"
    },
    "tags": []
   },
   "outputs": [
    {
     "data": {
      "text/plain": [
       "<matplotlib.legend.Legend at 0x7f451cad3d90>"
      ]
     },
     "execution_count": 13,
     "metadata": {},
     "output_type": "execute_result"
    },
    {
     "data": {
      "image/png": "[encoded data removed]",
      "text/plain": [
       "<Figure size 1008x576 with 1 Axes>"
      ]
     },
     "metadata": {
      "needs_background": "light"
     },
     "output_type": "display_data"
    }
   ],
   "source": [
    "y_score2 = clf2.predict_proba(X_test2)\n",
    "roc_auc2 = roc_auc_score(y_score=y_score2[:,1], y_true=y_test2)\n",
    "tpr, fpr, _ = roc_curve(y_score=y_score2[:,1], y_true=y_test2)\n",
    "fig = plt.figure(figsize=(14, 8))\n",
    "plt.plot(tpr, fpr, label='Performance Gappy Pair trie Kernel (AUC: {:0.2f})'.format(roc_auc2),         lw=4, color='orange')\n",
    "plt.xlabel('False Positive Rate')\n",
    "plt.ylabel('True Positive Rate')\n",
    "plt.plot([0, 1], [0, 1], color='navy', lw=4, linestyle='--', label='random')\n",
    "plt.legend(loc='lower right')"
   ]
  },
  {
   "cell_type": "code",
   "execution_count": 14,
   "id": "1207d254",
   "metadata": {
    "execution": {
     "iopub.execute_input": "2022-11-19T16:16:15.677087Z",
     "iopub.status.busy": "2022-11-19T16:16:15.676490Z",
     "iopub.status.idle": "2022-11-19T16:16:22.633185Z",
     "shell.execute_reply": "2022-11-19T16:16:22.631681Z"
    },
    "papermill": {
     "duration": 6.972726,
     "end_time": "2022-11-19T16:16:22.636273",
     "exception": false,
     "start_time": "2022-11-19T16:16:15.663547",
     "status": "completed"
    },
    "tags": []
   },
   "outputs": [
    {
     "name": "stdout",
     "output_type": "stream",
     "text": [
      "Calculated 1-gappypair in 0.873117208480835 seconds\n",
      "Calculated 1-gappypair in 1.2057995796203613 seconds\n",
      "Calculated 1-gappypair in 0.8713433742523193 seconds\n",
      "Calculated 1-gappypair in 1.2237598896026611 seconds\n",
      "Calculated 1-gappypair in 1.3857753276824951 seconds\n",
      "Calculated 1-gappypair in 1.3838868141174316 seconds\n"
     ]
    }
   ],
   "source": [
    "start = time.time()\n",
    "gk.gappypair_kernel(pos, k=k, g=g,  include_flanking=False, reverse=True, gapDifferent = True)\n",
    "print (\"Calculated {}-gappypair in {} seconds\".format(k, time.time() - start))\n",
    "start = time.time()\n",
    "gk.gappypair_kernel(pos,k=k, g=g,  include_flanking=True, gapDifferent = True)\n",
    "print (\"Calculated {}-gappypair in {} seconds\".format(k, time.time() - start))\n",
    "start = time.time()\n",
    "gk.gappypair_kernel(pos, k=k, g=g,  include_flanking=False, reverse =True, gapDifferent = False)\n",
    "print (\"Calculated {}-gappypair in {} seconds\".format(k, time.time() - start))\n",
    "start = time.time()\n",
    "gk.gappypair_kernel(pos, k=k, g=g,  include_flanking=True, gapDifferent = False)\n",
    "print (\"Calculated {}-gappypair in {} seconds\".format(k, time.time() - start))\n",
    "start = time.time()\n",
    "gk.gappypair_kernel(pos, k=k, g=4,  include_flanking=False, gapDifferent = True)\n",
    "print (\"Calculated {}-gappypair in {} seconds\".format(k, time.time() - start))\n",
    "start = time.time()\n",
    "gk.gappypair_kernel(pos, k=k, g=4,  include_flanking=False, gapDifferent = False)\n",
    "print (\"Calculated {}-gappypair in {} seconds\".format(k, time.time() - start))"
   ]
  },
  {
   "cell_type": "markdown",
   "id": "36b74fa2",
   "metadata": {
    "papermill": {
     "duration": 0.011766,
     "end_time": "2022-11-19T16:16:22.660745",
     "exception": false,
     "start_time": "2022-11-19T16:16:22.648979",
     "status": "completed"
    },
    "tags": []
   },
   "source": [
    "##### "
   ]
  },
  {
   "cell_type": "markdown",
   "id": "ee12f90c",
   "metadata": {
    "papermill": {
     "duration": 0.011565,
     "end_time": "2022-11-19T16:16:22.684315",
     "exception": false,
     "start_time": "2022-11-19T16:16:22.672750",
     "status": "completed"
    },
    "tags": []
   },
   "source": [
    "## 3.2 k-Nearest Neighbor"
   ]
  },
  {
   "cell_type": "code",
   "execution_count": 15,
   "id": "fbe64840",
   "metadata": {
    "execution": {
     "iopub.execute_input": "2022-11-19T16:16:22.710425Z",
     "iopub.status.busy": "2022-11-19T16:16:22.709958Z",
     "iopub.status.idle": "2022-11-19T16:16:22.720314Z",
     "shell.execute_reply": "2022-11-19T16:16:22.719156Z"
    },
    "papermill": {
     "duration": 0.026713,
     "end_time": "2022-11-19T16:16:22.722990",
     "exception": false,
     "start_time": "2022-11-19T16:16:22.696277",
     "status": "completed"
    },
    "tags": []
   },
   "outputs": [
    {
     "data": {
      "text/plain": [
       "KNeighborsClassifier(n_neighbors=2)"
      ]
     },
     "execution_count": 15,
     "metadata": {},
     "output_type": "execute_result"
    }
   ],
   "source": [
    "knn = KNeighborsClassifier(n_neighbors = 2)\n",
    "knn.fit(X_train, y_train)"
   ]
  },
  {
   "cell_type": "code",
   "execution_count": 16,
   "id": "024fc905",
   "metadata": {
    "execution": {
     "iopub.execute_input": "2022-11-19T16:16:22.750276Z",
     "iopub.status.busy": "2022-11-19T16:16:22.749816Z",
     "iopub.status.idle": "2022-11-19T16:16:22.770213Z",
     "shell.execute_reply": "2022-11-19T16:16:22.768394Z"
    },
    "papermill": {
     "duration": 0.039373,
     "end_time": "2022-11-19T16:16:22.774924",
     "exception": false,
     "start_time": "2022-11-19T16:16:22.735551",
     "status": "completed"
    },
    "tags": []
   },
   "outputs": [],
   "source": [
    "y_pred = knn.predict(X_test)"
   ]
  },
  {
   "cell_type": "code",
   "execution_count": 17,
   "id": "dafe2768",
   "metadata": {
    "execution": {
     "iopub.execute_input": "2022-11-19T16:16:22.837221Z",
     "iopub.status.busy": "2022-11-19T16:16:22.836459Z",
     "iopub.status.idle": "2022-11-19T16:16:22.859479Z",
     "shell.execute_reply": "2022-11-19T16:16:22.858076Z"
    },
    "papermill": {
     "duration": 0.058558,
     "end_time": "2022-11-19T16:16:22.863446",
     "exception": false,
     "start_time": "2022-11-19T16:16:22.804888",
     "status": "completed"
    },
    "tags": []
   },
   "outputs": [
    {
     "name": "stdout",
     "output_type": "stream",
     "text": [
      "Confusion Matrix:\n",
      "[[37  6]\n",
      " [27 16]]\n",
      "Classification Report:\n",
      "              precision    recall  f1-score   support\n",
      "\n",
      "        -1.0       0.58      0.86      0.69        43\n",
      "         1.0       0.73      0.37      0.49        43\n",
      "\n",
      "    accuracy                           0.62        86\n",
      "   macro avg       0.65      0.62      0.59        86\n",
      "weighted avg       0.65      0.62      0.59        86\n",
      "\n",
      "Accuracy: 0.6162790697674418\n"
     ]
    }
   ],
   "source": [
    "result = confusion_matrix(y_test, y_pred)\n",
    "print(\"Confusion Matrix:\")\n",
    "print(result)\n",
    "result1 = classification_report(y_test, y_pred)\n",
    "print(\"Classification Report:\",)\n",
    "print (result1)\n",
    "result2 = accuracy_score(y_test,y_pred)\n",
    "print(\"Accuracy:\",result2)"
   ]
  },
  {
   "cell_type": "code",
   "execution_count": 18,
   "id": "594e172a",
   "metadata": {
    "execution": {
     "iopub.execute_input": "2022-11-19T16:16:22.897621Z",
     "iopub.status.busy": "2022-11-19T16:16:22.897122Z",
     "iopub.status.idle": "2022-11-19T16:16:22.906742Z",
     "shell.execute_reply": "2022-11-19T16:16:22.905839Z"
    },
    "papermill": {
     "duration": 0.025125,
     "end_time": "2022-11-19T16:16:22.908974",
     "exception": false,
     "start_time": "2022-11-19T16:16:22.883849",
     "status": "completed"
    },
    "tags": []
   },
   "outputs": [
    {
     "data": {
      "text/plain": [
       "KNeighborsClassifier(n_neighbors=2)"
      ]
     },
     "execution_count": 18,
     "metadata": {},
     "output_type": "execute_result"
    }
   ],
   "source": [
    "knn2 = KNeighborsClassifier(n_neighbors = 2)\n",
    "knn2.fit(X_train2, y_train2)"
   ]
  },
  {
   "cell_type": "code",
   "execution_count": 19,
   "id": "144a7224",
   "metadata": {
    "execution": {
     "iopub.execute_input": "2022-11-19T16:16:22.935070Z",
     "iopub.status.busy": "2022-11-19T16:16:22.934592Z",
     "iopub.status.idle": "2022-11-19T16:16:22.947910Z",
     "shell.execute_reply": "2022-11-19T16:16:22.946193Z"
    },
    "papermill": {
     "duration": 0.031441,
     "end_time": "2022-11-19T16:16:22.952398",
     "exception": false,
     "start_time": "2022-11-19T16:16:22.920957",
     "status": "completed"
    },
    "tags": []
   },
   "outputs": [],
   "source": [
    "y_pred2 = knn2.predict(X_test2)"
   ]
  },
  {
   "cell_type": "code",
   "execution_count": 20,
   "id": "7fa7c8cd",
   "metadata": {
    "execution": {
     "iopub.execute_input": "2022-11-19T16:16:23.019451Z",
     "iopub.status.busy": "2022-11-19T16:16:23.018645Z",
     "iopub.status.idle": "2022-11-19T16:16:23.042948Z",
     "shell.execute_reply": "2022-11-19T16:16:23.041713Z"
    },
    "papermill": {
     "duration": 0.062188,
     "end_time": "2022-11-19T16:16:23.047066",
     "exception": false,
     "start_time": "2022-11-19T16:16:22.984878",
     "status": "completed"
    },
    "tags": []
   },
   "outputs": [
    {
     "name": "stdout",
     "output_type": "stream",
     "text": [
      "Confusion Matrix:\n",
      "[[37  6]\n",
      " [34  9]]\n",
      "Classification Report:\n",
      "              precision    recall  f1-score   support\n",
      "\n",
      "        -1.0       0.52      0.86      0.65        43\n",
      "         1.0       0.60      0.21      0.31        43\n",
      "\n",
      "    accuracy                           0.53        86\n",
      "   macro avg       0.56      0.53      0.48        86\n",
      "weighted avg       0.56      0.53      0.48        86\n",
      "\n",
      "Accuracy: 0.5348837209302325\n"
     ]
    }
   ],
   "source": [
    "result = confusion_matrix(y_test2, y_pred2)\n",
    "print(\"Confusion Matrix:\")\n",
    "print(result)\n",
    "result1 = classification_report(y_test2, y_pred2)\n",
    "print(\"Classification Report:\",)\n",
    "print (result1)\n",
    "result2 = accuracy_score(y_test2,y_pred2)\n",
    "print(\"Accuracy:\",result2)"
   ]
  },
  {
   "cell_type": "code",
   "execution_count": 21,
   "id": "775197b3",
   "metadata": {
    "execution": {
     "iopub.execute_input": "2022-11-19T16:16:23.081590Z",
     "iopub.status.busy": "2022-11-19T16:16:23.081095Z",
     "iopub.status.idle": "2022-11-19T16:16:23.092382Z",
     "shell.execute_reply": "2022-11-19T16:16:23.091110Z"
    },
    "papermill": {
     "duration": 0.027422,
     "end_time": "2022-11-19T16:16:23.094809",
     "exception": false,
     "start_time": "2022-11-19T16:16:23.067387",
     "status": "completed"
    },
    "tags": []
   },
   "outputs": [
    {
     "data": {
      "text/plain": [
       "KNeighborsClassifier(n_neighbors=2)"
      ]
     },
     "execution_count": 21,
     "metadata": {},
     "output_type": "execute_result"
    }
   ],
   "source": [
    "knn3 = KNeighborsClassifier(n_neighbors = 2)\n",
    "knn3.fit(X_train3, y_train3)"
   ]
  },
  {
   "cell_type": "code",
   "execution_count": 22,
   "id": "28c146e3",
   "metadata": {
    "execution": {
     "iopub.execute_input": "2022-11-19T16:16:23.123524Z",
     "iopub.status.busy": "2022-11-19T16:16:23.121212Z",
     "iopub.status.idle": "2022-11-19T16:16:23.141395Z",
     "shell.execute_reply": "2022-11-19T16:16:23.139511Z"
    },
    "papermill": {
     "duration": 0.039257,
     "end_time": "2022-11-19T16:16:23.146644",
     "exception": false,
     "start_time": "2022-11-19T16:16:23.107387",
     "status": "completed"
    },
    "tags": []
   },
   "outputs": [],
   "source": [
    "y_pred3 = knn3.predict(X_test3)"
   ]
  },
  {
   "cell_type": "code",
   "execution_count": 23,
   "id": "47d3cb96",
   "metadata": {
    "execution": {
     "iopub.execute_input": "2022-11-19T16:16:23.216181Z",
     "iopub.status.busy": "2022-11-19T16:16:23.214458Z",
     "iopub.status.idle": "2022-11-19T16:16:23.242893Z",
     "shell.execute_reply": "2022-11-19T16:16:23.241280Z"
    },
    "papermill": {
     "duration": 0.068564,
     "end_time": "2022-11-19T16:16:23.248125",
     "exception": false,
     "start_time": "2022-11-19T16:16:23.179561",
     "status": "completed"
    },
    "tags": []
   },
   "outputs": [
    {
     "name": "stdout",
     "output_type": "stream",
     "text": [
      "Confusion Matrix:\n",
      "[[37  6]\n",
      " [34  9]]\n",
      "Classification Report:\n",
      "              precision    recall  f1-score   support\n",
      "\n",
      "        -1.0       0.52      0.86      0.65        43\n",
      "         1.0       0.60      0.21      0.31        43\n",
      "\n",
      "    accuracy                           0.53        86\n",
      "   macro avg       0.56      0.53      0.48        86\n",
      "weighted avg       0.56      0.53      0.48        86\n",
      "\n",
      "Accuracy: 0.5348837209302325\n"
     ]
    }
   ],
   "source": [
    "result = confusion_matrix(y_test3, y_pred3)\n",
    "print(\"Confusion Matrix:\")\n",
    "print(result)\n",
    "result1 = classification_report(y_test3, y_pred3)\n",
    "print(\"Classification Report:\",)\n",
    "print (result1)\n",
    "result2 = accuracy_score(y_test3,y_pred3)\n",
    "print(\"Accuracy:\",result2)"
   ]
  },
  {
   "cell_type": "markdown",
   "id": "c7f9b1e1",
   "metadata": {
    "papermill": {
     "duration": 0.012052,
     "end_time": "2022-11-19T16:16:23.275330",
     "exception": false,
     "start_time": "2022-11-19T16:16:23.263278",
     "status": "completed"
    },
    "tags": []
   },
   "source": [
    "## 3.3 Ensemble Learning"
   ]
  },
  {
   "cell_type": "code",
   "execution_count": 24,
   "id": "d5080d1f",
   "metadata": {
    "execution": {
     "iopub.execute_input": "2022-11-19T16:16:23.302780Z",
     "iopub.status.busy": "2022-11-19T16:16:23.301644Z",
     "iopub.status.idle": "2022-11-19T16:16:23.307784Z",
     "shell.execute_reply": "2022-11-19T16:16:23.306551Z"
    },
    "papermill": {
     "duration": 0.022436,
     "end_time": "2022-11-19T16:16:23.310346",
     "exception": false,
     "start_time": "2022-11-19T16:16:23.287910",
     "status": "completed"
    },
    "tags": []
   },
   "outputs": [],
   "source": [
    "estimators=[(\"knn\", knn), (\"svm\", clf)]\n",
    "estimators2=[(\"knn2\", knn2), (\"svm2\", clf2)]\n",
    "estimators3=[(\"knn3\", knn3), (\"svm3\", clf3)]"
   ]
  },
  {
   "cell_type": "markdown",
   "id": "23efd2a9",
   "metadata": {
    "papermill": {
     "duration": 0.011968,
     "end_time": "2022-11-19T16:16:23.335238",
     "exception": false,
     "start_time": "2022-11-19T16:16:23.323270",
     "status": "completed"
    },
    "tags": []
   },
   "source": [
    "### 3.3.1 - Ensemble Stacking (First Models)"
   ]
  },
  {
   "cell_type": "code",
   "execution_count": 25,
   "id": "1ab27822",
   "metadata": {
    "execution": {
     "iopub.execute_input": "2022-11-19T16:16:23.362142Z",
     "iopub.status.busy": "2022-11-19T16:16:23.361552Z",
     "iopub.status.idle": "2022-11-19T16:16:24.664487Z",
     "shell.execute_reply": "2022-11-19T16:16:24.662659Z"
    },
    "papermill": {
     "duration": 1.322022,
     "end_time": "2022-11-19T16:16:24.669711",
     "exception": false,
     "start_time": "2022-11-19T16:16:23.347689",
     "status": "completed"
    },
    "tags": []
   },
   "outputs": [],
   "source": [
    "ensemble_stack = StackingClassifier(estimators=estimators)\n",
    "\n",
    "ensemble_stack.fit(X_train, y_train)\n",
    "\n",
    "ensemble_stack.score(X_test, y_test)\n",
    "y_pred = ensemble_stack.predict(X_test)"
   ]
  },
  {
   "cell_type": "code",
   "execution_count": 26,
   "id": "ce20507a",
   "metadata": {
    "execution": {
     "iopub.execute_input": "2022-11-19T16:16:24.736490Z",
     "iopub.status.busy": "2022-11-19T16:16:24.735689Z",
     "iopub.status.idle": "2022-11-19T16:16:24.761433Z",
     "shell.execute_reply": "2022-11-19T16:16:24.759685Z"
    },
    "papermill": {
     "duration": 0.064688,
     "end_time": "2022-11-19T16:16:24.766401",
     "exception": false,
     "start_time": "2022-11-19T16:16:24.701713",
     "status": "completed"
    },
    "tags": []
   },
   "outputs": [
    {
     "name": "stdout",
     "output_type": "stream",
     "text": [
      "Confusion Matrix:\n",
      "[[23 20]\n",
      " [13 30]]\n",
      "Classification Report:\n",
      "              precision    recall  f1-score   support\n",
      "\n",
      "        -1.0       0.64      0.53      0.58        43\n",
      "         1.0       0.60      0.70      0.65        43\n",
      "\n",
      "    accuracy                           0.62        86\n",
      "   macro avg       0.62      0.62      0.61        86\n",
      "weighted avg       0.62      0.62      0.61        86\n",
      "\n",
      "Accuracy: 0.6162790697674418\n"
     ]
    }
   ],
   "source": [
    "result = confusion_matrix(y_test, y_pred)\n",
    "print(\"Confusion Matrix:\")\n",
    "print(result)\n",
    "result1 = classification_report(y_test, y_pred)\n",
    "print(\"Classification Report:\",)\n",
    "print (result1)\n",
    "result2 = accuracy_score(y_test,y_pred)\n",
    "print(\"Accuracy:\",result2)"
   ]
  },
  {
   "cell_type": "markdown",
   "id": "54fbc307",
   "metadata": {
    "papermill": {
     "duration": 0.012905,
     "end_time": "2022-11-19T16:16:24.797437",
     "exception": false,
     "start_time": "2022-11-19T16:16:24.784532",
     "status": "completed"
    },
    "tags": []
   },
   "source": [
    "### 3.3.2 - Ensemble Stacking (Second Models)"
   ]
  },
  {
   "cell_type": "code",
   "execution_count": 27,
   "id": "815189ef",
   "metadata": {
    "execution": {
     "iopub.execute_input": "2022-11-19T16:16:24.824312Z",
     "iopub.status.busy": "2022-11-19T16:16:24.823857Z",
     "iopub.status.idle": "2022-11-19T16:16:26.220714Z",
     "shell.execute_reply": "2022-11-19T16:16:26.218898Z"
    },
    "papermill": {
     "duration": 1.417647,
     "end_time": "2022-11-19T16:16:26.227632",
     "exception": false,
     "start_time": "2022-11-19T16:16:24.809985",
     "status": "completed"
    },
    "tags": []
   },
   "outputs": [],
   "source": [
    "ensemble_stack = StackingClassifier(estimators=estimators2)\n",
    "\n",
    "ensemble_stack.fit(X_train2, y_train2)\n",
    "\n",
    "ensemble_stack.score(X_test2, y_test2)\n",
    "y_pred2 = ensemble_stack.predict(X_test2)"
   ]
  },
  {
   "cell_type": "code",
   "execution_count": 28,
   "id": "92adc872",
   "metadata": {
    "execution": {
     "iopub.execute_input": "2022-11-19T16:16:26.326656Z",
     "iopub.status.busy": "2022-11-19T16:16:26.326030Z",
     "iopub.status.idle": "2022-11-19T16:16:26.340899Z",
     "shell.execute_reply": "2022-11-19T16:16:26.339276Z"
    },
    "papermill": {
     "duration": 0.074302,
     "end_time": "2022-11-19T16:16:26.343672",
     "exception": false,
     "start_time": "2022-11-19T16:16:26.269370",
     "status": "completed"
    },
    "tags": []
   },
   "outputs": [
    {
     "name": "stdout",
     "output_type": "stream",
     "text": [
      "Confusion Matrix:\n",
      "[[23 20]\n",
      " [12 31]]\n",
      "Classification Report:\n",
      "              precision    recall  f1-score   support\n",
      "\n",
      "        -1.0       0.66      0.53      0.59        43\n",
      "         1.0       0.61      0.72      0.66        43\n",
      "\n",
      "    accuracy                           0.63        86\n",
      "   macro avg       0.63      0.63      0.62        86\n",
      "weighted avg       0.63      0.63      0.62        86\n",
      "\n",
      "Accuracy: 0.627906976744186\n"
     ]
    }
   ],
   "source": [
    "result = confusion_matrix(y_test2, y_pred2)\n",
    "print(\"Confusion Matrix:\")\n",
    "print(result)\n",
    "result1 = classification_report(y_test2, y_pred2)\n",
    "print(\"Classification Report:\",)\n",
    "print (result1)\n",
    "result2 = accuracy_score(y_test2,y_pred2)\n",
    "print(\"Accuracy:\",result2)"
   ]
  },
  {
   "cell_type": "markdown",
   "id": "223cc9c0",
   "metadata": {
    "papermill": {
     "duration": 0.011994,
     "end_time": "2022-11-19T16:16:26.368361",
     "exception": false,
     "start_time": "2022-11-19T16:16:26.356367",
     "status": "completed"
    },
    "tags": []
   },
   "source": [
    "### 3.3.2 - Ensemble Stacking (Third Models)"
   ]
  },
  {
   "cell_type": "code",
   "execution_count": 29,
   "id": "4c780ae1",
   "metadata": {
    "execution": {
     "iopub.execute_input": "2022-11-19T16:16:26.394704Z",
     "iopub.status.busy": "2022-11-19T16:16:26.394225Z",
     "iopub.status.idle": "2022-11-19T16:16:27.733826Z",
     "shell.execute_reply": "2022-11-19T16:16:27.732226Z"
    },
    "papermill": {
     "duration": 1.358372,
     "end_time": "2022-11-19T16:16:27.738989",
     "exception": false,
     "start_time": "2022-11-19T16:16:26.380617",
     "status": "completed"
    },
    "tags": []
   },
   "outputs": [],
   "source": [
    "ensemble_stack = StackingClassifier(estimators=estimators3)\n",
    "\n",
    "ensemble_stack.fit(X_train3, y_train3)\n",
    "\n",
    "ensemble_stack.score(X_test3, y_test3)\n",
    "y_pred3 = ensemble_stack.predict(X_test3)"
   ]
  },
  {
   "cell_type": "code",
   "execution_count": 30,
   "id": "375f1cbb",
   "metadata": {
    "execution": {
     "iopub.execute_input": "2022-11-19T16:16:27.807548Z",
     "iopub.status.busy": "2022-11-19T16:16:27.806711Z",
     "iopub.status.idle": "2022-11-19T16:16:27.829889Z",
     "shell.execute_reply": "2022-11-19T16:16:27.828357Z"
    },
    "papermill": {
     "duration": 0.061753,
     "end_time": "2022-11-19T16:16:27.833781",
     "exception": false,
     "start_time": "2022-11-19T16:16:27.772028",
     "status": "completed"
    },
    "tags": []
   },
   "outputs": [
    {
     "name": "stdout",
     "output_type": "stream",
     "text": [
      "Confusion Matrix:\n",
      "[[23 20]\n",
      " [13 30]]\n",
      "Classification Report:\n",
      "              precision    recall  f1-score   support\n",
      "\n",
      "        -1.0       0.64      0.53      0.58        43\n",
      "         1.0       0.60      0.70      0.65        43\n",
      "\n",
      "    accuracy                           0.62        86\n",
      "   macro avg       0.62      0.62      0.61        86\n",
      "weighted avg       0.62      0.62      0.61        86\n",
      "\n",
      "Accuracy: 0.6162790697674418\n"
     ]
    }
   ],
   "source": [
    "result = confusion_matrix(y_test3, y_pred3)\n",
    "print(\"Confusion Matrix:\")\n",
    "print(result)\n",
    "result1 = classification_report(y_test3, y_pred3)\n",
    "print(\"Classification Report:\",)\n",
    "print (result1)\n",
    "result2 = accuracy_score(y_test3,y_pred3)\n",
    "print(\"Accuracy:\",result2)"
   ]
  },
  {
   "cell_type": "code",
   "execution_count": null,
   "id": "6e1ed81d",
   "metadata": {
    "papermill": {
     "duration": 0.011908,
     "end_time": "2022-11-19T16:16:27.865446",
     "exception": false,
     "start_time": "2022-11-19T16:16:27.853538",
     "status": "completed"
    },
    "tags": []
   },
   "outputs": [],
   "source": []
  }
 ],
 "metadata": {
  "kernelspec": {
   "display_name": "Python 3",
   "language": "python",
   "name": "python3"
  },
  "language_info": {
   "codemirror_mode": {
    "name": "ipython",
    "version": 3
   },
   "file_extension": ".py",
   "mimetype": "text/x-python",
   "name": "python",
   "nbconvert_exporter": "python",
   "pygments_lexer": "ipython3",
   "version": "3.7.12"
  },
  "papermill": {
   "default_parameters": {},
   "duration": 48.030263,
   "end_time": "2022-11-19T16:16:29.002781",
   "environment_variables": {},
   "exception": null,
   "input_path": "__notebook__.ipynb",
   "output_path": "__notebook__.ipynb",
   "parameters": {},
   "start_time": "2022-11-19T16:15:40.972518",
   "version": "2.3.4"
  }
 },
 "nbformat": 4,
 "nbformat_minor": 5
}
